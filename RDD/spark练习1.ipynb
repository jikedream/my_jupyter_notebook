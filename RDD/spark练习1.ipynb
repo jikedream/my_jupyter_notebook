{
 "cells": [
  {
   "cell_type": "code",
   "execution_count": 1,
   "id": "3a486585",
   "metadata": {},
   "outputs": [],
   "source": [
    "import findspark\n",
    "findspark.init()\n",
    "import pyspark\n",
    "from pyspark.sql import SparkSession\n",
    "spark = SparkSession.builder \\\n",
    "    .appName(\"Word Count\") \\\n",
    "    .getOrCreate()\n",
    "sc = spark.sparkContext"
   ]
  },
  {
   "cell_type": "markdown",
   "id": "8257f110",
   "metadata": {},
   "source": [
    "# 题目一"
   ]
  },
  {
   "cell_type": "code",
   "execution_count": 2,
   "id": "a3d3b170",
   "metadata": {},
   "outputs": [],
   "source": [
    "lines = sc.textFile('chapter4-data01.txt')\n",
    "line=lines.distinct()"
   ]
  },
  {
   "cell_type": "markdown",
   "id": "1498b701",
   "metadata": {},
   "source": [
    "# 该系学生数目"
   ]
  },
  {
   "cell_type": "code",
   "execution_count": 3,
   "id": "f744f53a",
   "metadata": {},
   "outputs": [
    {
     "data": {
      "text/plain": [
       "265"
      ]
     },
     "execution_count": 3,
     "metadata": {},
     "output_type": "execute_result"
    }
   ],
   "source": [
    "res1 = line.map(lambda x:x.split(\",\")).map(lambda x:x[0])\n",
    "distinct_res1 = res1.distinct()\n",
    "distinct_res1.count()"
   ]
  },
  {
   "cell_type": "markdown",
   "id": "41570cab",
   "metadata": {},
   "source": [
    "# 该系总共开设的课程"
   ]
  },
  {
   "cell_type": "code",
   "execution_count": 4,
   "id": "61eba541",
   "metadata": {},
   "outputs": [
    {
     "data": {
      "text/plain": [
       "8"
      ]
     },
     "execution_count": 4,
     "metadata": {},
     "output_type": "execute_result"
    }
   ],
   "source": [
    "res2 = line.map(lambda x:x.split(\",\")).map(lambda x:x[1])\n",
    "distinct_res2 = res2.distinct()\n",
    "distinct_res2.count()"
   ]
  },
  {
   "cell_type": "markdown",
   "id": "6a295c5a",
   "metadata": {},
   "source": [
    "# 计算TOM同学的总平均分"
   ]
  },
  {
   "cell_type": "code",
   "execution_count": 5,
   "id": "7a06deda",
   "metadata": {},
   "outputs": [
    {
     "name": "stdout",
     "output_type": "stream",
     "text": [
      "30.8\n"
     ]
    }
   ],
   "source": [
    "res3 = line.map(lambda x:x.split(\",\")).filter(lambda x:x[0]==\"Tom\")\n",
    "res3.foreach(print)\n",
    "score = res3.map(lambda x:int(x[2]))\n",
    "num = res3.count()\n",
    "sum_score = score.reduce(lambda x,y:x+y)\n",
    "avg = sum_score/num\n",
    "print(avg)"
   ]
  },
  {
   "cell_type": "markdown",
   "id": "80731469",
   "metadata": {},
   "source": [
    "# 每名同学的选修了几门科目"
   ]
  },
  {
   "cell_type": "code",
   "execution_count": 6,
   "id": "842d8f20",
   "metadata": {},
   "outputs": [
    {
     "name": "stdout",
     "output_type": "stream",
     "text": [
      "[('Aaron', 4), ('Adair', 3), ('Adonis', 5), ('Alan', 5), ('Aldrich', 3), ('Alexander', 4), ('Alvin', 5), ('Amos', 5), ('Andrew', 4), ('Antonio', 3), ('Archer', 5), ('Armstrong', 2), ('Baron', 6), ('Barry', 5), ('Bartholomew', 5), ('Bart', 5), ('Beck', 4), ('Ben', 4), ('Benedict', 6), ('Benjamin', 4), ('Bennett', 6), ('Benson', 4), ('Bernie', 3), ('Bertram', 3), ('Bill', 2), ('Bishop', 2), ('Blithe', 3), ('Booth', 6), ('Borg', 4), ('Boris', 6), ('Boyd', 3), ('Brian', 6), ('Brook', 4), ('Bruno', 5), ('Channing', 4), ('Christian', 2), ('Clarence', 7), ('Clark', 6), ('Claude', 2), ('Clement', 5), ('Cleveland', 4), ('Cliff', 5), ('Colbert', 4), ('Colby', 4), ('Colin', 5), ('Conrad', 2), ('Corey', 4), ('Dean', 7), ('Devin', 4), ('Don', 2), ('Donahue', 5), ('Duke', 4), ('Duncann', 5), ('Edward', 4), ('Elijah', 4), ('Ellis', 4), ('Elmer', 4), ('Elroy', 5), ('Elton', 5), ('Enoch', 3), ('Francis', 4), ('Geoffrey', 4), ('Giles', 7), ('Gordon', 4), ('Greg', 4), ('Harlan', 6), ('Hayden', 3), ('Hilary', 4), ('Hiram', 6), ('Hobart', 4), ('Hogan', 4), ('Horace', 5), ('Jason', 4), ('Jay', 6), ('Jeremy', 6), ('Jim', 4), ('Jonathan', 4), ('Ken', 3), ('Kennedy', 4), ('Lennon', 4), ('Leo', 5), ('Leonard', 2), ('Leopold', 7), ('Les', 6), ('Lewis', 4), ('Lou', 2), ('Lucien', 5), ('Mark', 7), ('Marsh', 4), ('Matt', 4), ('Maxwell', 4), ('Meredith', 4), ('Merlin', 5), ('Michael', 5), ('Miles', 6), ('Monroe', 3), ('Nicholas', 5), ('Nick', 5), ('Nigel', 3), ('Perry', 5), ('Pete', 3), ('Phil', 3), ('Rock', 6), ('Roderick', 4), ('Ron', 6), ('Ronald', 3), ('Rory', 4), ('Roy', 6), ('Saxon', 7), ('Scott', 3), ('Sid', 3), ('Sidney', 5), ('Stan', 3), ('Tom', 5), ('Tony', 3), ('Upton', 5), ('Uriah', 1), ('Valentine', 8), ('Vic', 3), ('Victor', 2), ('Vincent', 5), ('Virgil', 5), ('Walter', 4), ('Ward', 4), ('Webb', 7), ('Will', 3), ('Willie', 4), ('Winfred', 3), ('Wordsworth', 4), ('Wright', 4), ('Bernard', 2), ('Dick', 3), ('Eli', 5), ('Ford', 3), ('Joshua', 4), ('Kerwin', 3), ('Matthew', 2), ('Milo', 2), ('Abbott', 3), ('Abel', 4), ('Abraham', 3), ('Adam', 3), ('Adolph', 4), ('Albert', 3), ('Alger', 5), ('Allen', 4), ('Alston', 4), ('Alva', 5), ('Alvis', 6), ('Andy', 3), ('Angelo', 2), ('Antony', 5), ('Archibald', 5), ('Aries', 2), ('Arlen', 4), ('Armand', 3), ('Basil', 4), ('Berg', 4), ('Bert', 3), ('Bevis', 4), ('Bing', 6), ('Blake', 4), ('Bowen', 5), ('Boyce', 2), ('Bradley', 2), ('Brady', 5), ('Brandon', 5), ('Broderick', 3), ('Bruce', 3), ('Chad', 6), ('Chapman', 4), ('Charles', 3), ('Chester', 6), ('Christ', 2), ('Christopher', 4), ('Clare', 4), ('Clyde', 7), ('Dempsey', 4), ('Dennis', 4), ('Derrick', 6), ('Donald', 4), ('Drew', 5), ('Egbert', 4), ('Elliot', 3), ('Elvis', 2), ('Eric', 4), ('Ernest', 5), ('Eugene', 1), ('Evan', 3), ('Frank', 3), ('George', 4), ('Gerald', 4), ('Gilbert', 3), ('Glenn', 6), ('Griffith', 4), ('Harold', 4), ('Harry', 4), ('Harvey', 7), ('Henry', 2), ('Herbert', 3), ('Herman', 3), ('Ivan', 4), ('Jeff', 4), ('Jeffrey', 4), ('Jerome', 3), ('Jerry', 3), ('Jesse', 7), ('Jo', 5), ('John', 6), ('Jonas', 4), ('Joseph', 3), ('Kenneth', 3), ('Kent', 4), ('Kerr', 4), ('Kim', 4), ('Len', 5), ('Lester', 4), ('Levi', 2), ('Lionel', 4), ('Louis', 6), ('Luthers', 5), ('Marico', 6), ('Marlon', 4), ('Marshall', 4), ('Martin', 3), ('Marvin', 3), ('Max', 3), ('Merle', 3), ('Mike', 3), ('Nelson', 5), ('Newman', 2), ('Noah', 4), ('Payne', 6), ('Peter', 4), ('Philip', 2), ('Randolph', 3), ('Raymondt', 6), ('Robin', 4), ('Rod', 4), ('Rodney', 3), ('Samuel', 4), ('Sandy', 1), ('Sean', 6), ('Sebastian', 6), ('Solomon', 5), ('Spencer', 5), ('Todd', 3), ('Tracy', 3), ('Truman', 3), ('Verne', 3), ('Webster', 2), ('William', 6), ('Winston', 4), ('Woodrow', 3), ('Alfred', 2), ('Barton', 1), ('Blair', 4), ('Bob', 3), ('Dominic', 4), ('Emmanuel', 3), ('Kevin', 4), ('Maurice', 2), ('Mick', 4), ('Montague', 3), ('Simon', 2)]\n"
     ]
    }
   ],
   "source": [
    "print(line.map(lambda x:(x.split(\",\")[0],1)).reduceByKey(lambda x,y:x+y).collect())"
   ]
  },
  {
   "cell_type": "markdown",
   "id": "a72478b0",
   "metadata": {},
   "source": [
    "# 该系课程DataBase课程有多少人选修"
   ]
  },
  {
   "cell_type": "code",
   "execution_count": 7,
   "id": "6b1c4a30",
   "metadata": {},
   "outputs": [
    {
     "data": {
      "text/plain": [
       "126"
      ]
     },
     "execution_count": 7,
     "metadata": {},
     "output_type": "execute_result"
    }
   ],
   "source": [
    "res4 = line.map(lambda x:x.split(\",\")).filter(lambda x:x[1]=='DataBase')\n",
    "res4.count()"
   ]
  },
  {
   "cell_type": "markdown",
   "id": "3b152d3a",
   "metadata": {},
   "source": [
    "# 每门科目的平均分是多少"
   ]
  },
  {
   "cell_type": "code",
   "execution_count": 8,
   "id": "78605247",
   "metadata": {
    "scrolled": true
   },
   "outputs": [
    {
     "name": "stdout",
     "output_type": "stream",
     "text": [
      "+---------------+-----+\n",
      "|             _1|   _2|\n",
      "+---------------+-----+\n",
      "|ComputerNetwork| 51.9|\n",
      "|         Python|57.82|\n",
      "|  DataStructure|47.57|\n",
      "|OperatingSystem|54.94|\n",
      "|       DataBase|50.54|\n",
      "|      Algorithm|48.83|\n",
      "|      CLanguage|50.61|\n",
      "|       Software|50.91|\n",
      "+---------------+-----+\n",
      "\n"
     ]
    }
   ],
   "source": [
    "res5 = line.map(lambda x:x.split(\",\")).map(lambda x:(x[1],(int(x[2]),1)))\n",
    "temp2 = res5.reduceByKey(lambda x,y:(x[0]+y[0],x[1]+y[1]))\n",
    "avg2 = temp2.map(lambda x:(x[0],round(x[1][0]/x[1][1],2)))\n",
    "df_avg2 = spark.createDataFrame(avg2)\n",
    "df_avg2.show()"
   ]
  },
  {
   "cell_type": "markdown",
   "id": "847b6d70",
   "metadata": {},
   "source": [
    "# 使用累加器计算共有多少人选了DataBase这门课"
   ]
  },
  {
   "cell_type": "code",
   "execution_count": 15,
   "id": "a2fb7c58",
   "metadata": {},
   "outputs": [
    {
     "data": {
      "text/plain": [
       "1073"
      ]
     },
     "execution_count": 15,
     "metadata": {},
     "output_type": "execute_result"
    }
   ],
   "source": [
    "res6 = line.map(lambda x:x.split(\",\")).filter(lambda x:x[1]==\"DataBase\")\n",
    "accum = sc.accumulator(0)\n",
    "res.foreach(lambda x:accum.add(1))\n",
    "accum.value"
   ]
  }
 ],
 "metadata": {
  "kernelspec": {
   "display_name": "Python 3 (ipykernel)",
   "language": "python",
   "name": "python3"
  },
  "language_info": {
   "codemirror_mode": {
    "name": "ipython",
    "version": 3
   },
   "file_extension": ".py",
   "mimetype": "text/x-python",
   "name": "python",
   "nbconvert_exporter": "python",
   "pygments_lexer": "ipython3",
   "version": "3.7.7"
  }
 },
 "nbformat": 4,
 "nbformat_minor": 5
}
